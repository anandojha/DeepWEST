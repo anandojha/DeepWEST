{
 "cells": [
  {
   "cell_type": "code",
   "execution_count": 1,
   "id": "13d70866",
   "metadata": {},
   "outputs": [],
   "source": [
    "import DeepWEST \n",
    "import os"
   ]
  },
  {
   "cell_type": "code",
   "execution_count": 2,
   "id": "35f3c94e",
   "metadata": {},
   "outputs": [],
   "source": [
    "data_dir = \"/home/aaojha/Downloads/DeepWEST/data_for_DeepWEST/alanine_dipeptide\"\n",
    "traj_file = os.path.join(data_dir, \"no_bias_no_solvent.nc\")"
   ]
  },
  {
   "cell_type": "code",
   "execution_count": 3,
   "id": "fe6dd7f7",
   "metadata": {},
   "outputs": [
    {
     "name": "stderr",
     "output_type": "stream",
     "text": [
      "  % Total    % Received % Xferd  Average Speed   Time    Time     Time  Current\n",
      "                                 Dload  Upload   Total   Spent    Left  Speed\n",
      "100  1813  100  1813    0     0   3351      0 --:--:-- --:--:-- --:--:--  3351\n"
     ]
    },
    {
     "name": "stdout",
     "output_type": "stream",
     "text": [
      "<mdtraj.Topology with 1 chains, 3 residues, 22 atoms, 21 bonds>\n",
      "<mdtraj.Trajectory with 25 frames, 22 atoms, 3 residues, and unitcells>\n"
     ]
    }
   ],
   "source": [
    "DeepWEST.get_alad_traj_pdb_from_nc(traj=traj_file, traj_pdb=\"alad_multi.pdb\", start=0, stop=250000, stride=10000)"
   ]
  },
  {
   "cell_type": "code",
   "execution_count": 4,
   "id": "2884998f",
   "metadata": {},
   "outputs": [],
   "source": [
    "DeepWEST.fix_cap_replace_nme(pdb_file=\"alad_multi.pdb\")\n",
    "DeepWEST.fix_cap_replace_nme_H(pdb_file=\"alad_multi.pdb\")"
   ]
  }
 ],
 "metadata": {
  "kernelspec": {
   "display_name": "Python 3 (ipykernel)",
   "language": "python",
   "name": "python3"
  },
  "language_info": {
   "codemirror_mode": {
    "name": "ipython",
    "version": 3
   },
   "file_extension": ".py",
   "mimetype": "text/x-python",
   "name": "python",
   "nbconvert_exporter": "python",
   "pygments_lexer": "ipython3",
   "version": "3.7.10"
  }
 },
 "nbformat": 4,
 "nbformat_minor": 5
}
