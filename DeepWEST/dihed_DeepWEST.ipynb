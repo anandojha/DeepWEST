{
 "cells": [
  {
   "cell_type": "code",
   "execution_count": 1,
   "metadata": {
    "scrolled": true
   },
   "outputs": [],
   "source": [
    "import matplotlib.gridspec as gridspec\n",
    "import matplotlib.pyplot as plt\n",
    "import tensorflow as tf\n",
    "import numpy as np\n",
    "import itertools\n",
    "import DeepWEST \n",
    "import os"
   ]
  },
  {
   "cell_type": "markdown",
   "metadata": {},
   "source": [
    "#### Load Data ( .prmtop and .nc should be present)"
   ]
  },
  {
   "cell_type": "code",
   "execution_count": 2,
   "metadata": {},
   "outputs": [],
   "source": [
    "data_dir = \"/home/aaojha/Downloads/DeepWEST/data_for_DeepWEST/alanine_dipeptide\"\n",
    "traj_file = os.path.join(data_dir, \"no_bias_solvent.nc\")\n",
    "top = os.path.join(data_dir, \"system.prmtop\")"
   ]
  },
  {
   "cell_type": "code",
   "execution_count": 3,
   "metadata": {},
   "outputs": [],
   "source": [
    "heavy_atoms_file = os.path.join(\"heavy_atoms_md.txt\")\n",
    "phi_psi_file = os.path.join(\"phi_psi_md.txt\")"
   ]
  },
  {
   "cell_type": "code",
   "execution_count": null,
   "metadata": {},
   "outputs": [],
   "source": [
    "DeepWEST.create_heavy_atom_xyz_solvent(traj = traj_file, top = top, \n",
    "                                    heavy_atoms_array = heavy_atoms_file, \n",
    "                                    start = 0, stop = 25000, stride = 1)\n",
    "\n",
    "DeepWEST.create_phi_psi_solvent(traj = traj_file, top = top, phi_psi_txt = phi_psi_file, \n",
    "                             start = 0, stop = 25000, stride = 1)"
   ]
  },
  {
   "cell_type": "code",
   "execution_count": null,
   "metadata": {},
   "outputs": [],
   "source": [
    "traj_whole = np.loadtxt(heavy_atoms_file)\n",
    "print(traj_whole.shape)\n",
    "dihedral = np.loadtxt(phi_psi_file)\n",
    "print(dihedral.shape)"
   ]
  },
  {
   "cell_type": "markdown",
   "metadata": {},
   "source": [
    "## EM Clustering Algorithm"
   ]
  },
  {
   "cell_type": "code",
   "execution_count": null,
   "metadata": {},
   "outputs": [],
   "source": [
    "traj_data = traj_whole # data to be used as input to GMM, can be with dihedrals or without dihedrals"
   ]
  },
  {
   "cell_type": "code",
   "execution_count": null,
   "metadata": {},
   "outputs": [],
   "source": [
    "tsne_dims = DeepWEST.tsne_visualize(traj_data)"
   ]
  },
  {
   "cell_type": "code",
   "execution_count": null,
   "metadata": {},
   "outputs": [],
   "source": [
    "# K-Means Clustering and Gaussian Mixture Model\n",
    "num_clusters = DeepWEST.experiment_with_k_means(traj_data, tsne_dims)\n",
    "posterior_probabs = DeepWEST.gmm(traj_data, num_clusters)"
   ]
  },
  {
   "cell_type": "code",
   "execution_count": null,
   "metadata": {},
   "outputs": [],
   "source": [
    "indices, labels = DeepWEST.get_clustered_indices(traj_data, posterior_probabs, \n",
    "                                              num_traj_indices = 50)\n",
    "print(indices.shape[0])\n",
    "np.savetxt(\"indices_dihed.txt\", indices)"
   ]
  },
  {
   "cell_type": "code",
   "execution_count": null,
   "metadata": {},
   "outputs": [],
   "source": [
    "fig, ax = plt.subplots()\n",
    "for i in range(num_clusters[0][0]+2):\n",
    "    coor_train = np.where(labels == i)[0]\n",
    "    ax.scatter(dihedral[coor_train,0], dihedral[coor_train,1], s=5, label=i)\n",
    "ax.legend()\n",
    "plt.axes = [[-np.pi, np.pi],[-np.pi, np.pi]]\n",
    "plt.savefig(os.path.join(data_dir, \"RC.jpeg\"))\n",
    "plt.show()"
   ]
  },
  {
   "cell_type": "code",
   "execution_count": null,
   "metadata": {},
   "outputs": [],
   "source": [
    "def print_states_pie_chart():\n",
    "    labels_final = np.argmax(posterior_probabs, axis = 1)\n",
    "    coors = np.bincount(labels_final)\n",
    "    fig1, ax1 = plt.subplots()\n",
    "    ax1.pie(np.array(coors), autopct='%1.2f%%', startangle=90)\n",
    "    ax1.axis('equal')  # Equal aspect ratio ensures that pie is drawn as a circle.\n",
    "    print('States population: '+ str(np.array(coors)/len(labels_final)*100)+'%')\n",
    "    plt.savefig(os.path.join(data_dir, \"population.jpeg\"))\n",
    "    plt.show()\n",
    "print_states_pie_chart()"
   ]
  }
 ],
 "metadata": {
  "anaconda-cloud": {},
  "kernelspec": {
   "display_name": "Python 3 (ipykernel)",
   "language": "python",
   "name": "python3"
  },
  "language_info": {
   "codemirror_mode": {
    "name": "ipython",
    "version": 3
   },
   "file_extension": ".py",
   "mimetype": "text/x-python",
   "name": "python",
   "nbconvert_exporter": "python",
   "pygments_lexer": "ipython3",
   "version": "3.7.10"
  }
 },
 "nbformat": 4,
 "nbformat_minor": 2
}
