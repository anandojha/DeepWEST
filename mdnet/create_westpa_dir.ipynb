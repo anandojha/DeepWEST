{
 "cells": [
  {
   "cell_type": "code",
   "execution_count": null,
   "id": "0737a09d",
   "metadata": {},
   "outputs": [],
   "source": [
    "import numpy as np\n",
    "import mdnet\n",
    "import os"
   ]
  },
  {
   "cell_type": "code",
   "execution_count": null,
   "id": "dff3e638",
   "metadata": {},
   "outputs": [],
   "source": [
    "data_dir = \"/home/aaojha/Downloads/data_for_mdnet\"\n",
    "traj_file = os.path.join(data_dir, \"traj.nc\")\n",
    "top = os.path.join(data_dir, \"system.prmtop\")"
   ]
  },
  {
   "cell_type": "code",
   "execution_count": null,
   "id": "3762ccb7",
   "metadata": {},
   "outputs": [],
   "source": [
    "current_cwd = os.getcwd()\n",
    "westpa_cwd = current_cwd + \"/\" + \"westpa_dir\" # westpa directory pwd "
   ]
  },
  {
   "cell_type": "code",
   "execution_count": null,
   "id": "44550755",
   "metadata": {},
   "outputs": [],
   "source": [
    "indices_vamp = np.loadtxt(\"indices_vamp.txt\")\n",
    "indices_vamp = [int(i) for i in indices_vamp]\n",
    "print(indices_vamp)\n",
    "indices_dihed = np.loadtxt(\"indices_dihed.txt\")\n",
    "indices_dihed = [int(i) for i in indices_dihed]\n",
    "print(indices_dihed)"
   ]
  },
  {
   "cell_type": "code",
   "execution_count": null,
   "id": "0008c6ff",
   "metadata": {},
   "outputs": [],
   "source": [
    "mdnet.create_westpa_dir(traj_file = traj_file, top = top, indices = indices_vamp)\n",
    "os.chdir(westpa_cwd)\n",
    "mdnet.run_short_md_westpa_dir(traj = traj_file, top = top)\n",
    "mdnet.create_westpa_filetree()  "
   ]
  }
 ],
 "metadata": {
  "kernelspec": {
   "display_name": "Python 3",
   "language": "python",
   "name": "python3"
  },
  "language_info": {
   "codemirror_mode": {
    "name": "ipython",
    "version": 3
   },
   "file_extension": ".py",
   "mimetype": "text/x-python",
   "name": "python",
   "nbconvert_exporter": "python",
   "pygments_lexer": "ipython3",
   "version": "3.7.10"
  }
 },
 "nbformat": 4,
 "nbformat_minor": 5
}
